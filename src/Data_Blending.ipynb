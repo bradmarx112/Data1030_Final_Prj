{
 "cells": [
  {
   "cell_type": "code",
   "execution_count": 1,
   "id": "82b89a5b",
   "metadata": {},
   "outputs": [
    {
     "name": "stdout",
     "output_type": "stream",
     "text": [
      "C:\\Users\\14102\\Brown\\DATA1030\\QIM\\Data1030_Project\n"
     ]
    }
   ],
   "source": [
    "cd .."
   ]
  },
  {
   "cell_type": "code",
   "execution_count": 2,
   "id": "3c1caff5",
   "metadata": {},
   "outputs": [],
   "source": [
    "import rioxarray as rxr\n",
    "import pandas as pd\n",
    "import numpy as np\n",
    "import matplotlib\n",
    "import matplotlib.pyplot as plt\n",
    "import geopandas as gpd\n",
    "from scipy.spatial import cKDTree\n",
    "from scipy.interpolate import interp2d, NearestNDInterpolator, RBFInterpolator\n",
    "from shapely.geometry import Point\n",
    "import matplotlib as mpl\n",
    "mpl.rcParams['figure.dpi'] = 300"
   ]
  },
  {
   "cell_type": "code",
   "execution_count": 3,
   "id": "d6aef52c",
   "metadata": {},
   "outputs": [],
   "source": [
    "# Function from stackoverflow: https://gis.stackexchange.com/questions/222315/finding-nearest-point-in-other-geodataframe-using-geopandas\n",
    "# Edited the funtion to allow for >1 nearest points to be returned\n",
    "def ckdnearest(gdA, gdB, num_pts):\n",
    "\n",
    "    nA = np.array(list(gdA.geometry.apply(lambda x: (x.x, x.y))))\n",
    "    nB = np.array(list(gdB.geometry.apply(lambda x: (x.x, x.y))))\n",
    "    btree = cKDTree(nB)\n",
    "    dist, idx = btree.query(nA, k=num_pts)\n",
    "    gdf = gpd.GeoDataFrame()#gdA.reset_index(drop=True).copy()\n",
    "    \n",
    "    for rank, packed_data in enumerate(zip(np.hsplit(idx, num_pts), np.hsplit(dist, num_pts))):\n",
    "        ids = packed_data[0].flatten()\n",
    "        dist = packed_data[1].flatten()\n",
    "        gdB_nearest = gdB.iloc[ids].drop(columns=\"geometry\").reset_index(drop=True)\n",
    "        \n",
    "        gdf_t = pd.concat(\n",
    "            [\n",
    "                pd.Series(np.full_like(dist, rank + 1), name='distance_rank'),\n",
    "                gdA.reset_index(drop=True),\n",
    "                gdB_nearest,\n",
    "                pd.Series(dist, name='dist')\n",
    "            ], \n",
    "            axis=1)\n",
    "        \n",
    "        gdf = gdf.append(gdf_t)\n",
    "\n",
    "    return gdf\n"
   ]
  },
  {
   "cell_type": "markdown",
   "id": "92e32b46",
   "metadata": {},
   "source": [
    "# Population"
   ]
  },
  {
   "cell_type": "markdown",
   "id": "1cd06d2f",
   "metadata": {},
   "source": [
    "### Import Population Density data"
   ]
  },
  {
   "cell_type": "code",
   "execution_count": 4,
   "id": "751bc4ae",
   "metadata": {},
   "outputs": [],
   "source": [
    "pop_file = 'Data\\Gridded_Population_Estimate_2015_1KM.tif'\n",
    "pop_2015_tif = rxr.open_rasterio(pop_file)\n",
    "\n",
    "pop_2015_df = pop_2015_tif[0].to_pandas()\n",
    "\n",
    "lat_long_dens_df = pop_2015_df.melt(ignore_index=False, value_name='density').reset_index()\n",
    "\n",
    "lat_long_dens_df = lat_long_dens_df[lat_long_dens_df['density'] > 0]\n",
    "lat_long_dens_gdf = gpd.GeoDataFrame(\n",
    "    lat_long_dens_df, geometry=gpd.points_from_xy(lat_long_dens_df.x, \n",
    "                                                  lat_long_dens_df.y))\n",
    "lat_long_dens_gdf.reset_index(drop=True, inplace=True)"
   ]
  },
  {
   "cell_type": "markdown",
   "id": "6dfef5bf",
   "metadata": {},
   "source": [
    "# Soil Density"
   ]
  },
  {
   "cell_type": "markdown",
   "id": "53a92b1b",
   "metadata": {},
   "source": [
    "### Import Soil Density Data"
   ]
  },
  {
   "cell_type": "code",
   "execution_count": 5,
   "id": "a2dfe20f",
   "metadata": {},
   "outputs": [],
   "source": [
    "\n",
    "# pop_quake_mrt_landslide_file = \"Data\\GeoSpatial_Data_Processing\\Pop_Quake_Mort_Landslide_Soil_Table_Table.xlsx\"\n",
    "# soil_dnsty_df = pd.read_excel(pop_quake_mrt_landslide_file, sheet_name='Pop_Quake_Mort_Landslide_Soil_T')\n",
    "# soil_dnsty_df.fillna(0, inplace=True)\n"
   ]
  },
  {
   "cell_type": "code",
   "execution_count": 6,
   "id": "42a48b55",
   "metadata": {},
   "outputs": [],
   "source": [
    "# soil_dnsty_gdf = gpd.GeoDataFrame(\n",
    "#     soil_dnsty_df, geometry=gpd.points_from_xy(soil_dnsty_df.POINT_X, \n",
    "#                                                soil_dnsty_df.POINT_Y))\n",
    "\n",
    "# soil_dnsty_gdf.rename({'Density': 'SoilDensity'}, inplace=True)"
   ]
  },
  {
   "cell_type": "markdown",
   "id": "621ecfe7",
   "metadata": {},
   "source": [
    "### Build Soil Density Interpolation Function"
   ]
  },
  {
   "cell_type": "code",
   "execution_count": 7,
   "id": "27c6a121",
   "metadata": {},
   "outputs": [],
   "source": [
    "# filtered_df = soil_dnsty_gdf#[soil_dnsty_gdf['SoilDensity'] > 0]\n",
    "\n",
    "# soil_denstiy_intrp = RBFInterpolator(y=filtered_df[['POINT_X', 'POINT_Y']], d=filtered_df['SoilDensity'], kernel='gaussian',\n",
    "#                                      epsilon=2.5, neighbors=100)"
   ]
  },
  {
   "cell_type": "markdown",
   "id": "7c02657d",
   "metadata": {},
   "source": [
    "## Predict Soil Density for Each Population Point"
   ]
  },
  {
   "cell_type": "code",
   "execution_count": 8,
   "id": "d20eaf44",
   "metadata": {},
   "outputs": [],
   "source": [
    "# soil_ests = soil_denstiy_intrp(lat_long_dens_gdf[['x', 'y']])\n",
    "\n",
    "# lat_long_dens_gdf['SoilEst'] = soil_ests"
   ]
  },
  {
   "cell_type": "markdown",
   "id": "febc16b3",
   "metadata": {},
   "source": [
    "# EarthQuakes"
   ]
  },
  {
   "cell_type": "markdown",
   "id": "5197430b",
   "metadata": {},
   "source": [
    "### Import Earthquake data"
   ]
  },
  {
   "cell_type": "code",
   "execution_count": 9,
   "id": "e63d32ad",
   "metadata": {},
   "outputs": [],
   "source": [
    "quake_data_df = pd.read_csv('Data\\Worldwide-Earthquake-database.csv')\n",
    "quake_data_df.set_index('I_D', inplace=True)\n",
    "quake_data_df.fillna(0, inplace=True)\n",
    "# quake_data_df['EQ_PRIMARY'] = quake_data_df.apply(lambda x: np.max([x['EQ_PRIMARY'],\n",
    "#                                                                    x['EQ_MAG_MW'],\n",
    "#                                                                    x['EQ_MAG_MS'],\n",
    "#                                                                    x['EQ_MAG_MB'],\n",
    "#                                                                    x['EQ_MAG_ML'],\n",
    "#                                                                    x['EQ_MAG_MFA'],\n",
    "#                                                                    x['EQ_MAG_UNK']]), axis=1)\n",
    "quake_data_df = quake_data_df.iloc[:, [0,1,2,7,8,9,10,11,12,13,14,15,16,19,20,21,22]]\n",
    "quake_data_df.reset_index(inplace=True)\n",
    "quake_data_df_modern = quake_data_df.copy()\n",
    "quake_data_df_modern = quake_data_df_modern[quake_data_df_modern['YEAR'] >= 1980]\n",
    "# quake_data_df_modern = quake_data_df_modern[(quake_data_df_modern['EQ_PRIMARY'] > 3)]\n",
    "\n",
    "quake_data_df_modern = quake_data_df_modern.astype({'LATITUDE': 'float', 'LONGITUDE': 'float'})\n",
    "quake_data_df_modern.fillna(0, inplace=True)"
   ]
  },
  {
   "cell_type": "code",
   "execution_count": 10,
   "id": "90147264",
   "metadata": {},
   "outputs": [],
   "source": [
    "# Format as GeoDataFrame\n",
    "quake_data_gdf = gpd.GeoDataFrame(\n",
    "    quake_data_df_modern, geometry=gpd.points_from_xy(quake_data_df_modern.LONGITUDE, quake_data_df_modern.LATITUDE))"
   ]
  },
  {
   "cell_type": "markdown",
   "id": "e1625827",
   "metadata": {},
   "source": [
    "# HDI"
   ]
  },
  {
   "cell_type": "markdown",
   "id": "b1420d6e",
   "metadata": {},
   "source": [
    "### Import HDI (Human Development Index) data"
   ]
  },
  {
   "cell_type": "code",
   "execution_count": 11,
   "id": "97663054",
   "metadata": {},
   "outputs": [],
   "source": [
    "# Import Gridded HDI data / agg\n",
    "hdi_tif = rxr.open_rasterio('Data/2015_HDI_Data.tif')\n",
    "\n",
    "hdi_df = hdi_tif[0].to_pandas()\n",
    "\n",
    "hdi_df = hdi_df.melt(ignore_index=False, value_name='HDI').reset_index()\n",
    "hdi_df = hdi_df[hdi_df['HDI'] >= 0]\n",
    "hdi_df[['x', 'y']] = hdi_df[['x', 'y']].round(2)\n",
    "hdi_df_agg = hdi_df.groupby(['x', 'y']).agg({'HDI': 'mean'}).reset_index()\n",
    "\n",
    "hdi_gdf = gpd.GeoDataFrame(\n",
    "    hdi_df_agg, geometry=gpd.points_from_xy(hdi_df_agg.x, hdi_df_agg.y))"
   ]
  },
  {
   "cell_type": "markdown",
   "id": "9845504b",
   "metadata": {},
   "source": [
    "### Build HDI Interpolation Function"
   ]
  },
  {
   "cell_type": "code",
   "execution_count": 12,
   "id": "d11175d2",
   "metadata": {},
   "outputs": [],
   "source": [
    "hdi_fltr = hdi_gdf\n",
    "\n",
    "hdi_intrp = NearestNDInterpolator(x=hdi_fltr[['x', 'y']], y=hdi_fltr['HDI'])"
   ]
  },
  {
   "cell_type": "markdown",
   "id": "cefbd80c",
   "metadata": {},
   "source": [
    "### Predict HDI for Each Population Point"
   ]
  },
  {
   "cell_type": "code",
   "execution_count": 13,
   "id": "44d4147b",
   "metadata": {},
   "outputs": [],
   "source": [
    "hdi_ests = hdi_intrp(lat_long_dens_gdf[['x', 'y']])\n",
    "\n",
    "lat_long_dens_gdf['HDIEst'] = hdi_ests"
   ]
  },
  {
   "cell_type": "markdown",
   "id": "4825d2b6",
   "metadata": {},
   "source": [
    "# Nearest Neighbor Blending"
   ]
  },
  {
   "cell_type": "markdown",
   "id": "a3e37db6",
   "metadata": {},
   "source": [
    "### Merge Earthquake and Geo-Interpolated data by proximity"
   ]
  },
  {
   "cell_type": "code",
   "execution_count": 123,
   "id": "8b3c8d04",
   "metadata": {},
   "outputs": [
    {
     "name": "stderr",
     "output_type": "stream",
     "text": [
      "C:\\Users\\14102\\AppData\\Local\\Temp\\ipykernel_12352\\242703894.py:25: FutureWarning: The frame.append method is deprecated and will be removed from pandas in a future version. Use pandas.concat instead.\n",
      "  gdf = gdf.append(gdf_t)\n",
      "C:\\Users\\14102\\AppData\\Local\\Temp\\ipykernel_12352\\242703894.py:25: FutureWarning: The frame.append method is deprecated and will be removed from pandas in a future version. Use pandas.concat instead.\n",
      "  gdf = gdf.append(gdf_t)\n",
      "C:\\Users\\14102\\AppData\\Local\\Temp\\ipykernel_12352\\242703894.py:25: FutureWarning: The frame.append method is deprecated and will be removed from pandas in a future version. Use pandas.concat instead.\n",
      "  gdf = gdf.append(gdf_t)\n",
      "C:\\Users\\14102\\AppData\\Local\\Temp\\ipykernel_12352\\242703894.py:25: FutureWarning: The frame.append method is deprecated and will be removed from pandas in a future version. Use pandas.concat instead.\n",
      "  gdf = gdf.append(gdf_t)\n",
      "C:\\Users\\14102\\AppData\\Local\\Temp\\ipykernel_12352\\242703894.py:25: FutureWarning: The frame.append method is deprecated and will be removed from pandas in a future version. Use pandas.concat instead.\n",
      "  gdf = gdf.append(gdf_t)\n",
      "C:\\Users\\14102\\AppData\\Local\\Temp\\ipykernel_12352\\242703894.py:25: FutureWarning: The frame.append method is deprecated and will be removed from pandas in a future version. Use pandas.concat instead.\n",
      "  gdf = gdf.append(gdf_t)\n",
      "C:\\Users\\14102\\AppData\\Local\\Temp\\ipykernel_12352\\242703894.py:25: FutureWarning: The frame.append method is deprecated and will be removed from pandas in a future version. Use pandas.concat instead.\n",
      "  gdf = gdf.append(gdf_t)\n",
      "C:\\Users\\14102\\AppData\\Local\\Temp\\ipykernel_12352\\242703894.py:25: FutureWarning: The frame.append method is deprecated and will be removed from pandas in a future version. Use pandas.concat instead.\n",
      "  gdf = gdf.append(gdf_t)\n",
      "C:\\Users\\14102\\AppData\\Local\\Temp\\ipykernel_12352\\242703894.py:25: FutureWarning: The frame.append method is deprecated and will be removed from pandas in a future version. Use pandas.concat instead.\n",
      "  gdf = gdf.append(gdf_t)\n",
      "C:\\Users\\14102\\AppData\\Local\\Temp\\ipykernel_12352\\242703894.py:25: FutureWarning: The frame.append method is deprecated and will be removed from pandas in a future version. Use pandas.concat instead.\n",
      "  gdf = gdf.append(gdf_t)\n",
      "C:\\Users\\14102\\AppData\\Local\\Temp\\ipykernel_12352\\242703894.py:25: FutureWarning: The frame.append method is deprecated and will be removed from pandas in a future version. Use pandas.concat instead.\n",
      "  gdf = gdf.append(gdf_t)\n",
      "C:\\Users\\14102\\AppData\\Local\\Temp\\ipykernel_12352\\242703894.py:25: FutureWarning: The frame.append method is deprecated and will be removed from pandas in a future version. Use pandas.concat instead.\n",
      "  gdf = gdf.append(gdf_t)\n",
      "C:\\Users\\14102\\AppData\\Local\\Temp\\ipykernel_12352\\242703894.py:25: FutureWarning: The frame.append method is deprecated and will be removed from pandas in a future version. Use pandas.concat instead.\n",
      "  gdf = gdf.append(gdf_t)\n",
      "C:\\Users\\14102\\AppData\\Local\\Temp\\ipykernel_12352\\242703894.py:25: FutureWarning: The frame.append method is deprecated and will be removed from pandas in a future version. Use pandas.concat instead.\n",
      "  gdf = gdf.append(gdf_t)\n",
      "C:\\Users\\14102\\AppData\\Local\\Temp\\ipykernel_12352\\242703894.py:25: FutureWarning: The frame.append method is deprecated and will be removed from pandas in a future version. Use pandas.concat instead.\n",
      "  gdf = gdf.append(gdf_t)\n",
      "C:\\Users\\14102\\AppData\\Local\\Temp\\ipykernel_12352\\242703894.py:25: FutureWarning: The frame.append method is deprecated and will be removed from pandas in a future version. Use pandas.concat instead.\n",
      "  gdf = gdf.append(gdf_t)\n",
      "C:\\Users\\14102\\AppData\\Local\\Temp\\ipykernel_12352\\242703894.py:25: FutureWarning: The frame.append method is deprecated and will be removed from pandas in a future version. Use pandas.concat instead.\n",
      "  gdf = gdf.append(gdf_t)\n",
      "C:\\Users\\14102\\AppData\\Local\\Temp\\ipykernel_12352\\242703894.py:25: FutureWarning: The frame.append method is deprecated and will be removed from pandas in a future version. Use pandas.concat instead.\n",
      "  gdf = gdf.append(gdf_t)\n",
      "C:\\Users\\14102\\AppData\\Local\\Temp\\ipykernel_12352\\242703894.py:25: FutureWarning: The frame.append method is deprecated and will be removed from pandas in a future version. Use pandas.concat instead.\n",
      "  gdf = gdf.append(gdf_t)\n",
      "C:\\Users\\14102\\AppData\\Local\\Temp\\ipykernel_12352\\242703894.py:25: FutureWarning: The frame.append method is deprecated and will be removed from pandas in a future version. Use pandas.concat instead.\n",
      "  gdf = gdf.append(gdf_t)\n",
      "C:\\Users\\14102\\AppData\\Local\\Temp\\ipykernel_12352\\242703894.py:25: FutureWarning: The frame.append method is deprecated and will be removed from pandas in a future version. Use pandas.concat instead.\n",
      "  gdf = gdf.append(gdf_t)\n",
      "C:\\Users\\14102\\AppData\\Local\\Temp\\ipykernel_12352\\242703894.py:25: FutureWarning: The frame.append method is deprecated and will be removed from pandas in a future version. Use pandas.concat instead.\n",
      "  gdf = gdf.append(gdf_t)\n",
      "C:\\Users\\14102\\AppData\\Local\\Temp\\ipykernel_12352\\242703894.py:25: FutureWarning: The frame.append method is deprecated and will be removed from pandas in a future version. Use pandas.concat instead.\n",
      "  gdf = gdf.append(gdf_t)\n",
      "C:\\Users\\14102\\AppData\\Local\\Temp\\ipykernel_12352\\242703894.py:25: FutureWarning: The frame.append method is deprecated and will be removed from pandas in a future version. Use pandas.concat instead.\n",
      "  gdf = gdf.append(gdf_t)\n",
      "C:\\Users\\14102\\AppData\\Local\\Temp\\ipykernel_12352\\242703894.py:25: FutureWarning: The frame.append method is deprecated and will be removed from pandas in a future version. Use pandas.concat instead.\n",
      "  gdf = gdf.append(gdf_t)\n",
      "C:\\Users\\14102\\AppData\\Local\\Temp\\ipykernel_12352\\242703894.py:25: FutureWarning: The frame.append method is deprecated and will be removed from pandas in a future version. Use pandas.concat instead.\n",
      "  gdf = gdf.append(gdf_t)\n",
      "C:\\Users\\14102\\AppData\\Local\\Temp\\ipykernel_12352\\242703894.py:25: FutureWarning: The frame.append method is deprecated and will be removed from pandas in a future version. Use pandas.concat instead.\n",
      "  gdf = gdf.append(gdf_t)\n",
      "C:\\Users\\14102\\AppData\\Local\\Temp\\ipykernel_12352\\242703894.py:25: FutureWarning: The frame.append method is deprecated and will be removed from pandas in a future version. Use pandas.concat instead.\n",
      "  gdf = gdf.append(gdf_t)\n",
      "C:\\Users\\14102\\AppData\\Local\\Temp\\ipykernel_12352\\242703894.py:25: FutureWarning: The frame.append method is deprecated and will be removed from pandas in a future version. Use pandas.concat instead.\n",
      "  gdf = gdf.append(gdf_t)\n",
      "C:\\Users\\14102\\AppData\\Local\\Temp\\ipykernel_12352\\242703894.py:25: FutureWarning: The frame.append method is deprecated and will be removed from pandas in a future version. Use pandas.concat instead.\n",
      "  gdf = gdf.append(gdf_t)\n",
      "C:\\Users\\14102\\AppData\\Local\\Temp\\ipykernel_12352\\242703894.py:25: FutureWarning: The frame.append method is deprecated and will be removed from pandas in a future version. Use pandas.concat instead.\n",
      "  gdf = gdf.append(gdf_t)\n",
      "C:\\Users\\14102\\AppData\\Local\\Temp\\ipykernel_12352\\242703894.py:25: FutureWarning: The frame.append method is deprecated and will be removed from pandas in a future version. Use pandas.concat instead.\n",
      "  gdf = gdf.append(gdf_t)\n",
      "C:\\Users\\14102\\AppData\\Local\\Temp\\ipykernel_12352\\242703894.py:25: FutureWarning: The frame.append method is deprecated and will be removed from pandas in a future version. Use pandas.concat instead.\n",
      "  gdf = gdf.append(gdf_t)\n",
      "C:\\Users\\14102\\AppData\\Local\\Temp\\ipykernel_12352\\242703894.py:25: FutureWarning: The frame.append method is deprecated and will be removed from pandas in a future version. Use pandas.concat instead.\n",
      "  gdf = gdf.append(gdf_t)\n",
      "C:\\Users\\14102\\AppData\\Local\\Temp\\ipykernel_12352\\242703894.py:25: FutureWarning: The frame.append method is deprecated and will be removed from pandas in a future version. Use pandas.concat instead.\n",
      "  gdf = gdf.append(gdf_t)\n",
      "C:\\Users\\14102\\AppData\\Local\\Temp\\ipykernel_12352\\242703894.py:25: FutureWarning: The frame.append method is deprecated and will be removed from pandas in a future version. Use pandas.concat instead.\n",
      "  gdf = gdf.append(gdf_t)\n",
      "C:\\Users\\14102\\AppData\\Local\\Temp\\ipykernel_12352\\242703894.py:25: FutureWarning: The frame.append method is deprecated and will be removed from pandas in a future version. Use pandas.concat instead.\n",
      "  gdf = gdf.append(gdf_t)\n",
      "C:\\Users\\14102\\AppData\\Local\\Temp\\ipykernel_12352\\242703894.py:25: FutureWarning: The frame.append method is deprecated and will be removed from pandas in a future version. Use pandas.concat instead.\n",
      "  gdf = gdf.append(gdf_t)\n",
      "C:\\Users\\14102\\AppData\\Local\\Temp\\ipykernel_12352\\242703894.py:25: FutureWarning: The frame.append method is deprecated and will be removed from pandas in a future version. Use pandas.concat instead.\n",
      "  gdf = gdf.append(gdf_t)\n",
      "C:\\Users\\14102\\AppData\\Local\\Temp\\ipykernel_12352\\242703894.py:25: FutureWarning: The frame.append method is deprecated and will be removed from pandas in a future version. Use pandas.concat instead.\n",
      "  gdf = gdf.append(gdf_t)\n",
      "C:\\Users\\14102\\AppData\\Local\\Temp\\ipykernel_12352\\242703894.py:25: FutureWarning: The frame.append method is deprecated and will be removed from pandas in a future version. Use pandas.concat instead.\n",
      "  gdf = gdf.append(gdf_t)\n",
      "C:\\Users\\14102\\AppData\\Local\\Temp\\ipykernel_12352\\242703894.py:25: FutureWarning: The frame.append method is deprecated and will be removed from pandas in a future version. Use pandas.concat instead.\n",
      "  gdf = gdf.append(gdf_t)\n",
      "C:\\Users\\14102\\AppData\\Local\\Temp\\ipykernel_12352\\242703894.py:25: FutureWarning: The frame.append method is deprecated and will be removed from pandas in a future version. Use pandas.concat instead.\n",
      "  gdf = gdf.append(gdf_t)\n"
     ]
    },
    {
     "name": "stderr",
     "output_type": "stream",
     "text": [
      "C:\\Users\\14102\\AppData\\Local\\Temp\\ipykernel_12352\\242703894.py:25: FutureWarning: The frame.append method is deprecated and will be removed from pandas in a future version. Use pandas.concat instead.\n",
      "  gdf = gdf.append(gdf_t)\n",
      "C:\\Users\\14102\\AppData\\Local\\Temp\\ipykernel_12352\\242703894.py:25: FutureWarning: The frame.append method is deprecated and will be removed from pandas in a future version. Use pandas.concat instead.\n",
      "  gdf = gdf.append(gdf_t)\n",
      "C:\\Users\\14102\\AppData\\Local\\Temp\\ipykernel_12352\\242703894.py:25: FutureWarning: The frame.append method is deprecated and will be removed from pandas in a future version. Use pandas.concat instead.\n",
      "  gdf = gdf.append(gdf_t)\n",
      "C:\\Users\\14102\\AppData\\Local\\Temp\\ipykernel_12352\\242703894.py:25: FutureWarning: The frame.append method is deprecated and will be removed from pandas in a future version. Use pandas.concat instead.\n",
      "  gdf = gdf.append(gdf_t)\n",
      "C:\\Users\\14102\\AppData\\Local\\Temp\\ipykernel_12352\\242703894.py:25: FutureWarning: The frame.append method is deprecated and will be removed from pandas in a future version. Use pandas.concat instead.\n",
      "  gdf = gdf.append(gdf_t)\n",
      "C:\\Users\\14102\\AppData\\Local\\Temp\\ipykernel_12352\\242703894.py:25: FutureWarning: The frame.append method is deprecated and will be removed from pandas in a future version. Use pandas.concat instead.\n",
      "  gdf = gdf.append(gdf_t)\n",
      "C:\\Users\\14102\\AppData\\Local\\Temp\\ipykernel_12352\\242703894.py:25: FutureWarning: The frame.append method is deprecated and will be removed from pandas in a future version. Use pandas.concat instead.\n",
      "  gdf = gdf.append(gdf_t)\n",
      "C:\\Users\\14102\\AppData\\Local\\Temp\\ipykernel_12352\\242703894.py:25: FutureWarning: The frame.append method is deprecated and will be removed from pandas in a future version. Use pandas.concat instead.\n",
      "  gdf = gdf.append(gdf_t)\n",
      "C:\\Users\\14102\\AppData\\Local\\Temp\\ipykernel_12352\\242703894.py:25: FutureWarning: The frame.append method is deprecated and will be removed from pandas in a future version. Use pandas.concat instead.\n",
      "  gdf = gdf.append(gdf_t)\n",
      "C:\\Users\\14102\\AppData\\Local\\Temp\\ipykernel_12352\\242703894.py:25: FutureWarning: The frame.append method is deprecated and will be removed from pandas in a future version. Use pandas.concat instead.\n",
      "  gdf = gdf.append(gdf_t)\n",
      "C:\\Users\\14102\\AppData\\Local\\Temp\\ipykernel_12352\\242703894.py:25: FutureWarning: The frame.append method is deprecated and will be removed from pandas in a future version. Use pandas.concat instead.\n",
      "  gdf = gdf.append(gdf_t)\n",
      "C:\\Users\\14102\\AppData\\Local\\Temp\\ipykernel_12352\\242703894.py:25: FutureWarning: The frame.append method is deprecated and will be removed from pandas in a future version. Use pandas.concat instead.\n",
      "  gdf = gdf.append(gdf_t)\n",
      "C:\\Users\\14102\\AppData\\Local\\Temp\\ipykernel_12352\\242703894.py:25: FutureWarning: The frame.append method is deprecated and will be removed from pandas in a future version. Use pandas.concat instead.\n",
      "  gdf = gdf.append(gdf_t)\n",
      "C:\\Users\\14102\\AppData\\Local\\Temp\\ipykernel_12352\\242703894.py:25: FutureWarning: The frame.append method is deprecated and will be removed from pandas in a future version. Use pandas.concat instead.\n",
      "  gdf = gdf.append(gdf_t)\n",
      "C:\\Users\\14102\\AppData\\Local\\Temp\\ipykernel_12352\\242703894.py:25: FutureWarning: The frame.append method is deprecated and will be removed from pandas in a future version. Use pandas.concat instead.\n",
      "  gdf = gdf.append(gdf_t)\n",
      "C:\\Users\\14102\\AppData\\Local\\Temp\\ipykernel_12352\\242703894.py:25: FutureWarning: The frame.append method is deprecated and will be removed from pandas in a future version. Use pandas.concat instead.\n",
      "  gdf = gdf.append(gdf_t)\n",
      "C:\\Users\\14102\\AppData\\Local\\Temp\\ipykernel_12352\\242703894.py:25: FutureWarning: The frame.append method is deprecated and will be removed from pandas in a future version. Use pandas.concat instead.\n",
      "  gdf = gdf.append(gdf_t)\n",
      "C:\\Users\\14102\\AppData\\Local\\Temp\\ipykernel_12352\\242703894.py:25: FutureWarning: The frame.append method is deprecated and will be removed from pandas in a future version. Use pandas.concat instead.\n",
      "  gdf = gdf.append(gdf_t)\n",
      "C:\\Users\\14102\\AppData\\Local\\Temp\\ipykernel_12352\\242703894.py:25: FutureWarning: The frame.append method is deprecated and will be removed from pandas in a future version. Use pandas.concat instead.\n",
      "  gdf = gdf.append(gdf_t)\n",
      "C:\\Users\\14102\\AppData\\Local\\Temp\\ipykernel_12352\\242703894.py:25: FutureWarning: The frame.append method is deprecated and will be removed from pandas in a future version. Use pandas.concat instead.\n",
      "  gdf = gdf.append(gdf_t)\n",
      "C:\\Users\\14102\\AppData\\Local\\Temp\\ipykernel_12352\\242703894.py:25: FutureWarning: The frame.append method is deprecated and will be removed from pandas in a future version. Use pandas.concat instead.\n",
      "  gdf = gdf.append(gdf_t)\n",
      "C:\\Users\\14102\\AppData\\Local\\Temp\\ipykernel_12352\\242703894.py:25: FutureWarning: The frame.append method is deprecated and will be removed from pandas in a future version. Use pandas.concat instead.\n",
      "  gdf = gdf.append(gdf_t)\n",
      "C:\\Users\\14102\\AppData\\Local\\Temp\\ipykernel_12352\\242703894.py:25: FutureWarning: The frame.append method is deprecated and will be removed from pandas in a future version. Use pandas.concat instead.\n",
      "  gdf = gdf.append(gdf_t)\n",
      "C:\\Users\\14102\\AppData\\Local\\Temp\\ipykernel_12352\\242703894.py:25: FutureWarning: The frame.append method is deprecated and will be removed from pandas in a future version. Use pandas.concat instead.\n",
      "  gdf = gdf.append(gdf_t)\n",
      "C:\\Users\\14102\\AppData\\Local\\Temp\\ipykernel_12352\\242703894.py:25: FutureWarning: The frame.append method is deprecated and will be removed from pandas in a future version. Use pandas.concat instead.\n",
      "  gdf = gdf.append(gdf_t)\n",
      "C:\\Users\\14102\\AppData\\Local\\Temp\\ipykernel_12352\\242703894.py:25: FutureWarning: The frame.append method is deprecated and will be removed from pandas in a future version. Use pandas.concat instead.\n",
      "  gdf = gdf.append(gdf_t)\n",
      "C:\\Users\\14102\\AppData\\Local\\Temp\\ipykernel_12352\\242703894.py:25: FutureWarning: The frame.append method is deprecated and will be removed from pandas in a future version. Use pandas.concat instead.\n",
      "  gdf = gdf.append(gdf_t)\n",
      "C:\\Users\\14102\\AppData\\Local\\Temp\\ipykernel_12352\\242703894.py:25: FutureWarning: The frame.append method is deprecated and will be removed from pandas in a future version. Use pandas.concat instead.\n",
      "  gdf = gdf.append(gdf_t)\n",
      "C:\\Users\\14102\\AppData\\Local\\Temp\\ipykernel_12352\\242703894.py:25: FutureWarning: The frame.append method is deprecated and will be removed from pandas in a future version. Use pandas.concat instead.\n",
      "  gdf = gdf.append(gdf_t)\n",
      "C:\\Users\\14102\\AppData\\Local\\Temp\\ipykernel_12352\\242703894.py:25: FutureWarning: The frame.append method is deprecated and will be removed from pandas in a future version. Use pandas.concat instead.\n",
      "  gdf = gdf.append(gdf_t)\n",
      "C:\\Users\\14102\\AppData\\Local\\Temp\\ipykernel_12352\\242703894.py:25: FutureWarning: The frame.append method is deprecated and will be removed from pandas in a future version. Use pandas.concat instead.\n",
      "  gdf = gdf.append(gdf_t)\n",
      "C:\\Users\\14102\\AppData\\Local\\Temp\\ipykernel_12352\\242703894.py:25: FutureWarning: The frame.append method is deprecated and will be removed from pandas in a future version. Use pandas.concat instead.\n",
      "  gdf = gdf.append(gdf_t)\n",
      "C:\\Users\\14102\\AppData\\Local\\Temp\\ipykernel_12352\\242703894.py:25: FutureWarning: The frame.append method is deprecated and will be removed from pandas in a future version. Use pandas.concat instead.\n",
      "  gdf = gdf.append(gdf_t)\n",
      "C:\\Users\\14102\\AppData\\Local\\Temp\\ipykernel_12352\\242703894.py:25: FutureWarning: The frame.append method is deprecated and will be removed from pandas in a future version. Use pandas.concat instead.\n",
      "  gdf = gdf.append(gdf_t)\n",
      "C:\\Users\\14102\\AppData\\Local\\Temp\\ipykernel_12352\\242703894.py:25: FutureWarning: The frame.append method is deprecated and will be removed from pandas in a future version. Use pandas.concat instead.\n",
      "  gdf = gdf.append(gdf_t)\n",
      "C:\\Users\\14102\\AppData\\Local\\Temp\\ipykernel_12352\\242703894.py:25: FutureWarning: The frame.append method is deprecated and will be removed from pandas in a future version. Use pandas.concat instead.\n",
      "  gdf = gdf.append(gdf_t)\n",
      "C:\\Users\\14102\\AppData\\Local\\Temp\\ipykernel_12352\\242703894.py:25: FutureWarning: The frame.append method is deprecated and will be removed from pandas in a future version. Use pandas.concat instead.\n",
      "  gdf = gdf.append(gdf_t)\n",
      "C:\\Users\\14102\\AppData\\Local\\Temp\\ipykernel_12352\\242703894.py:25: FutureWarning: The frame.append method is deprecated and will be removed from pandas in a future version. Use pandas.concat instead.\n",
      "  gdf = gdf.append(gdf_t)\n",
      "C:\\Users\\14102\\AppData\\Local\\Temp\\ipykernel_12352\\242703894.py:25: FutureWarning: The frame.append method is deprecated and will be removed from pandas in a future version. Use pandas.concat instead.\n",
      "  gdf = gdf.append(gdf_t)\n",
      "C:\\Users\\14102\\AppData\\Local\\Temp\\ipykernel_12352\\242703894.py:25: FutureWarning: The frame.append method is deprecated and will be removed from pandas in a future version. Use pandas.concat instead.\n",
      "  gdf = gdf.append(gdf_t)\n",
      "C:\\Users\\14102\\AppData\\Local\\Temp\\ipykernel_12352\\242703894.py:25: FutureWarning: The frame.append method is deprecated and will be removed from pandas in a future version. Use pandas.concat instead.\n",
      "  gdf = gdf.append(gdf_t)\n",
      "C:\\Users\\14102\\AppData\\Local\\Temp\\ipykernel_12352\\242703894.py:25: FutureWarning: The frame.append method is deprecated and will be removed from pandas in a future version. Use pandas.concat instead.\n",
      "  gdf = gdf.append(gdf_t)\n",
      "C:\\Users\\14102\\AppData\\Local\\Temp\\ipykernel_12352\\242703894.py:25: FutureWarning: The frame.append method is deprecated and will be removed from pandas in a future version. Use pandas.concat instead.\n",
      "  gdf = gdf.append(gdf_t)\n",
      "C:\\Users\\14102\\AppData\\Local\\Temp\\ipykernel_12352\\242703894.py:25: FutureWarning: The frame.append method is deprecated and will be removed from pandas in a future version. Use pandas.concat instead.\n",
      "  gdf = gdf.append(gdf_t)\n",
      "C:\\Users\\14102\\AppData\\Local\\Temp\\ipykernel_12352\\242703894.py:25: FutureWarning: The frame.append method is deprecated and will be removed from pandas in a future version. Use pandas.concat instead.\n",
      "  gdf = gdf.append(gdf_t)\n"
     ]
    },
    {
     "name": "stderr",
     "output_type": "stream",
     "text": [
      "C:\\Users\\14102\\AppData\\Local\\Temp\\ipykernel_12352\\242703894.py:25: FutureWarning: The frame.append method is deprecated and will be removed from pandas in a future version. Use pandas.concat instead.\n",
      "  gdf = gdf.append(gdf_t)\n",
      "C:\\Users\\14102\\AppData\\Local\\Temp\\ipykernel_12352\\242703894.py:25: FutureWarning: The frame.append method is deprecated and will be removed from pandas in a future version. Use pandas.concat instead.\n",
      "  gdf = gdf.append(gdf_t)\n",
      "C:\\Users\\14102\\AppData\\Local\\Temp\\ipykernel_12352\\242703894.py:25: FutureWarning: The frame.append method is deprecated and will be removed from pandas in a future version. Use pandas.concat instead.\n",
      "  gdf = gdf.append(gdf_t)\n",
      "C:\\Users\\14102\\AppData\\Local\\Temp\\ipykernel_12352\\242703894.py:25: FutureWarning: The frame.append method is deprecated and will be removed from pandas in a future version. Use pandas.concat instead.\n",
      "  gdf = gdf.append(gdf_t)\n",
      "C:\\Users\\14102\\AppData\\Local\\Temp\\ipykernel_12352\\242703894.py:25: FutureWarning: The frame.append method is deprecated and will be removed from pandas in a future version. Use pandas.concat instead.\n",
      "  gdf = gdf.append(gdf_t)\n",
      "C:\\Users\\14102\\AppData\\Local\\Temp\\ipykernel_12352\\242703894.py:25: FutureWarning: The frame.append method is deprecated and will be removed from pandas in a future version. Use pandas.concat instead.\n",
      "  gdf = gdf.append(gdf_t)\n",
      "C:\\Users\\14102\\AppData\\Local\\Temp\\ipykernel_12352\\242703894.py:25: FutureWarning: The frame.append method is deprecated and will be removed from pandas in a future version. Use pandas.concat instead.\n",
      "  gdf = gdf.append(gdf_t)\n",
      "C:\\Users\\14102\\AppData\\Local\\Temp\\ipykernel_12352\\242703894.py:25: FutureWarning: The frame.append method is deprecated and will be removed from pandas in a future version. Use pandas.concat instead.\n",
      "  gdf = gdf.append(gdf_t)\n",
      "C:\\Users\\14102\\AppData\\Local\\Temp\\ipykernel_12352\\242703894.py:25: FutureWarning: The frame.append method is deprecated and will be removed from pandas in a future version. Use pandas.concat instead.\n",
      "  gdf = gdf.append(gdf_t)\n",
      "C:\\Users\\14102\\AppData\\Local\\Temp\\ipykernel_12352\\242703894.py:25: FutureWarning: The frame.append method is deprecated and will be removed from pandas in a future version. Use pandas.concat instead.\n",
      "  gdf = gdf.append(gdf_t)\n",
      "C:\\Users\\14102\\AppData\\Local\\Temp\\ipykernel_12352\\242703894.py:25: FutureWarning: The frame.append method is deprecated and will be removed from pandas in a future version. Use pandas.concat instead.\n",
      "  gdf = gdf.append(gdf_t)\n",
      "C:\\Users\\14102\\AppData\\Local\\Temp\\ipykernel_12352\\242703894.py:25: FutureWarning: The frame.append method is deprecated and will be removed from pandas in a future version. Use pandas.concat instead.\n",
      "  gdf = gdf.append(gdf_t)\n"
     ]
    }
   ],
   "source": [
    "num_closest_pts = 100\n",
    "# One degree dif = 60 miles on equator\n",
    "\n",
    "local_density_dfr_raw = ckdnearest(quake_data_gdf, lat_long_dens_gdf, num_pts=num_closest_pts)\n",
    "local_density_df = local_density_dfr_raw[((local_density_dfr_raw['dist'] <= 0.5) & (local_density_dfr_raw['EQ_PRIMARY'] <= 4.5)) | \n",
    "                        ((local_density_dfr_raw['dist'] <= 1.0) & \n",
    "                                    (local_density_dfr_raw['EQ_PRIMARY'] > 4.5) & \n",
    "                                    (local_density_dfr_raw['EQ_PRIMARY'] <= 5.5)) |\n",
    "                                   ((local_density_dfr_raw['dist'] <= 2) & \n",
    "                                    (local_density_dfr_raw['EQ_PRIMARY'] > 5.5) &\n",
    "                                    (local_density_dfr_raw['EQ_PRIMARY'] <= 6.5)) |\n",
    "                                   ((local_density_dfr_raw['dist'] <= 3.5) & \n",
    "                                    (local_density_dfr_raw['EQ_PRIMARY'] > 6.5) &\n",
    "                                    (local_density_dfr_raw['EQ_PRIMARY'] <= 7.5)) |\n",
    "                                   ((local_density_dfr_raw['EQ_PRIMARY'] > 7.5))]\n",
    "local_density_df = local_density_df.reset_index(drop=True)"
   ]
  },
  {
   "cell_type": "code",
   "execution_count": 116,
   "id": "67f7d508",
   "metadata": {
    "scrolled": false
   },
   "outputs": [],
   "source": [
    "# Aggregate over n closest points\n",
    "\n",
    "wm = lambda x: np.average(x, weights=local_density_df.loc[x.index, 'density'])\n",
    "d_wgt = lambda x: np.average(x, weights=local_density_df.loc[x.index, 'dist'])\n",
    "\n",
    "local_density_agg = local_density_df.groupby(list(quake_data_df_modern.columns)[:-1]).agg(avg_density=('density', 'mean'), \n",
    "                                                                                          dst_avg_density=('density', d_wgt), \n",
    "                                                                                          sum_density=('density', 'sum'),\n",
    "                                                                                          density_deviation=('density', 'std'),\n",
    "                                                                                          max_density=('density', 'max'),\n",
    "                                                                                          HDI=('HDIEst', 'mean'),\n",
    "                                                                                          HDI_pop_wgt=('HDIEst',  wm),\n",
    "                                                                                          max_HDI=('HDIEst',  'max'),\n",
    "                                                                                          dist_to_closest_pop=('dist', 'min'),\n",
    "                                                                                          pop_dist_deviation=('dist', 'std'),\n",
    "                                                                                          avg_pop_distance=('dist', 'mean'))\n",
    "local_density_agg.reset_index(inplace=True)\n",
    "local_density_agg = gpd.GeoDataFrame(local_density_agg)\n",
    "local_density_agg['eq_mag_unlogged'] = 10**local_density_agg['EQ_PRIMARY']"
   ]
  },
  {
   "cell_type": "markdown",
   "id": "de602bd3",
   "metadata": {},
   "source": [
    "### Import Gridded Land Coverage Data"
   ]
  },
  {
   "cell_type": "code",
   "execution_count": 17,
   "id": "a7eadd2e",
   "metadata": {},
   "outputs": [],
   "source": [
    "# Import Gridded HDI data / agg\n",
    "# Experimental. Not using this data at the moment.\n",
    "# land_use_tif = rxr.open_rasterio(\"Data/Gridded_Land_Cover_Categories.tif\")  # Change this back to land use data\n",
    "\n",
    "# land_use_df = land_use_tif[0].to_pandas()\n",
    "# land_use_df = land_use_df.iloc[::100, ::100]  # Way too much data, need to trim down\n",
    "# land_use_df = land_use_df.melt(ignore_index=False, value_name='LandUseCode').reset_index()"
   ]
  },
  {
   "cell_type": "code",
   "execution_count": 18,
   "id": "4d2ef13f",
   "metadata": {
    "scrolled": true
   },
   "outputs": [],
   "source": [
    "# land_use_df[['x', 'y']] = land_use_df[['x', 'y']].round(2)\n",
    "# land_use_agg = land_use_df.groupby(['x', 'y', 'LandUseCode']).size().reset_index().iloc[:,:-1]\n",
    "# land_use_gdf = gpd.GeoDataFrame(\n",
    "#     land_use_agg, geometry=gpd.points_from_xy(land_use_agg.x, land_use_agg.y))"
   ]
  },
  {
   "cell_type": "markdown",
   "id": "27c376be",
   "metadata": {},
   "source": [
    "### Merge Earthquake and Land Cover data by proximity"
   ]
  },
  {
   "cell_type": "code",
   "execution_count": 19,
   "id": "2fea6cbc",
   "metadata": {},
   "outputs": [],
   "source": [
    "# local_density_hdi_landcvr_df = ckdnearest(local_hdi_agg, land_use_gdf, num_pts=1)\n"
   ]
  },
  {
   "cell_type": "code",
   "execution_count": 20,
   "id": "49869fe8",
   "metadata": {
    "scrolled": true
   },
   "outputs": [],
   "source": [
    "# local_density_hdi_landcvr_df.drop(['x', 'y', 'distance_rank', 'geometry'], axis=1, inplace=True)\n",
    "# local_density_hdi_landcvr_df.rename({'dist': 'dist_to_land_code'}, inplace=True, axis=1)"
   ]
  },
  {
   "cell_type": "markdown",
   "id": "7c990fd0",
   "metadata": {},
   "source": [
    "### Ouput data as csv"
   ]
  },
  {
   "cell_type": "code",
   "execution_count": 118,
   "id": "a64c993b",
   "metadata": {},
   "outputs": [],
   "source": [
    "local_density_agg = local_density_agg[local_density_agg['EQ_PRIMARY'] > 3].copy()\n",
    "local_density_agg.fillna(0, inplace=True)\n",
    "local_density_agg.to_csv('Data/blended_quake_data.csv')"
   ]
  },
  {
   "cell_type": "code",
   "execution_count": 124,
   "id": "bd7e2757",
   "metadata": {},
   "outputs": [],
   "source": [
    "local_density_df = local_density_df[local_density_df['EQ_PRIMARY'] > 3].copy().fillna(0)"
   ]
  },
  {
   "cell_type": "code",
   "execution_count": 125,
   "id": "9334bb9c",
   "metadata": {},
   "outputs": [],
   "source": [
    "local_density_df.to_csv('Data/quake_data_no_agg.csv')"
   ]
  },
  {
   "cell_type": "code",
   "execution_count": null,
   "id": "2835d747",
   "metadata": {},
   "outputs": [],
   "source": []
  }
 ],
 "metadata": {
  "kernelspec": {
   "display_name": "Python 3 (ipykernel)",
   "language": "python",
   "name": "python3"
  },
  "language_info": {
   "codemirror_mode": {
    "name": "ipython",
    "version": 3
   },
   "file_extension": ".py",
   "mimetype": "text/x-python",
   "name": "python",
   "nbconvert_exporter": "python",
   "pygments_lexer": "ipython3",
   "version": "3.10.5"
  }
 },
 "nbformat": 4,
 "nbformat_minor": 5
}
